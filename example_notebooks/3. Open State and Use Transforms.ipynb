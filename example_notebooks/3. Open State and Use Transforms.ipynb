{
 "cells": [
  {
   "cell_type": "markdown",
   "id": "6aaf973e",
   "metadata": {},
   "source": [
    "# [Aligning Big Brains and Atlases](https://biop.github.io/ijp-imagetoatlas/) in Python\n",
    "\n",
    "This series of notebook demoes the use of ABBA with python.\n",
    "\n",
    "You need to have executed the first notebook in order to re-open its registration result.\n",
    "\n",
    "This notebook shows how to convert the pixel position of a slice to its coordinates in the atlas (forth and back).\n"
   ]
  },
  {
   "cell_type": "code",
   "execution_count": 1,
   "id": "62435da7",
   "metadata": {
    "tags": []
   },
   "outputs": [],
   "source": [
    "# core dependencies\n",
    "import os\n",
    "import time\n",
    "from pathlib import Path\n",
    "\n",
    "\n",
    "from bg_atlasapi import show_atlases\n",
    "from bg_atlasapi import utils\n",
    "\n",
    "from abba_python.abba import Abba"
   ]
  },
  {
   "cell_type": "code",
   "execution_count": 2,
   "id": "99674331",
   "metadata": {
    "tags": []
   },
   "outputs": [
    {
     "name": "stderr",
     "output_type": "stream",
     "text": [
      "[java.lang.Enum.toString] Spimdata mpicbg.spim.data.SpimData@3c8e4666 is using the Bdv Playground global cache.\n",
      "[java.lang.Enum.toString] [WARNING] Ignoring unsupported output: ba [ch.epfl.biop.atlas.mouse.allen.ccfv3p1.command.AllenBrainAdultMouseAtlasCCF2017v3p1Command]\n"
     ]
    },
    {
     "name": "stdout",
     "output_type": "stream",
     "text": [
      "- Main Java Dependencies:\n",
      "['net.imagej:imagej:2.14.0', 'net.imagej:imagej-legacy:1.2.1', 'ch.epfl.biop:ImageToAtlasRegister:0.8.0']\n",
      "- Atlas cache folder:\n",
      "C:\\Users\\chiarutt\\cached_atlas\n",
      "- Elastix path:\n",
      "C:\\Users\\chiarutt\\AppData\\Local\\abba-python-0.8.0\\win\\elastix-5.0.1-win64\\elastix.exe\n",
      "- Transformix path:\n",
      "C:\\Users\\chiarutt\\AppData\\Local\\abba-python-0.8.0\\win\\elastix-5.0.1-win64\\transformix.exe\n",
      "- DeepSlice conda environment:\n",
      "C:\\Users\\chiarutt\\AppData\\Local\\abba-python-0.8.0\\envs\\deepslice v1.1.5\n"
     ]
    },
    {
     "name": "stderr",
     "output_type": "stream",
     "text": [
      "[java.lang.Enum.toString] Creating MultiSlicePositioner instance\n",
      "[java.lang.Enum.toString] MultiSlicePositioner instance created\n",
      "[java.lang.Enum.toString] [WARNING] Ignoring unsupported output: mp [ch.epfl.biop.atlas.aligner.MultiSlicePositioner]\n",
      "[java.lang.Enum.toString] Keymap list file C:\\Users\\chiarutt\\AppData\\Roaming\\fiji\\bigdataviewer\\config\\keymaps\\keymaps.yaml not found. Using builtin styles.[java.lang.Enum.toString] \n",
      "[java.lang.Enum.toString] Appearance settings file C:\\Users\\chiarutt\\AppData\\Roaming\\fiji\\bigdataviewer\\config/appearance.yaml not found. Using defaults.[java.lang.Enum.toString] \n",
      "[java.lang.Enum.toString] Registration plugin RegisterSlicesElastixAffineCommand discovered\n",
      "[java.lang.Enum.toString] Registration plugin RegisterSlicesBigWarpCommand discovered\n",
      "[java.lang.Enum.toString] Registration plugin MirrorDoCommand discovered\n",
      "[java.lang.Enum.toString] Registration plugin RegisterSlicesElastixSplineCommand discovered\n",
      "[java.lang.Enum.toString] IRunTimeClassAdapters : \n",
      "[java.lang.Enum.toString] \t interface net.imglib2.realtransform.RealTransform\n",
      "[java.lang.Enum.toString] \t \t class bdv.util.BoundedRealTransform\n",
      "[java.lang.Enum.toString] \t \t class bdv.util.Elliptical3DTransform\n",
      "[java.lang.Enum.toString] \t \t class ch.epfl.biop.registration.sourceandconverter.mirror.MirrorXTransform\n",
      "[java.lang.Enum.toString] \t \t class net.imglib2.realtransform.AffineTransform3D\n",
      "[java.lang.Enum.toString] \t \t class net.imglib2.realtransform.InvertibleRealTransformSequence\n",
      "[java.lang.Enum.toString] \t \t class net.imglib2.realtransform.RealTransformSequence\n",
      "[java.lang.Enum.toString] \t \t class net.imglib2.realtransform.ThinplateSplineTransform\n",
      "[java.lang.Enum.toString] \t \t class net.imglib2.realtransform.Wrapped2DTransformAs3D\n",
      "[java.lang.Enum.toString] \t \t class net.imglib2.realtransform.inverse.WrappedIterativeInvertibleRealTransform\n",
      "[java.lang.Enum.toString] \t interface sc.fiji.bdvpg.bdv.supplier.IBdvSupplier\n",
      "[java.lang.Enum.toString] \t \t class ch.epfl.biop.scijava.command.bdv.GridBdvSupplier\n",
      "[java.lang.Enum.toString] \t \t class sc.fiji.bdvpg.bdv.supplier.DefaultBdvSupplier\n",
      "[java.lang.Enum.toString] \t \t class sc.fiji.bdvpg.bdv.supplier.alpha.AlphaBdvSupplier\n",
      "[java.lang.Enum.toString] \t \t class sc.fiji.bdvpg.bdv.supplier.biop.BiopBdvSupplier\n",
      "[java.lang.Enum.toString] \t interface bdv.viewer.render.AccumulateProjectorFactory\n",
      "[java.lang.Enum.toString] \t \t class bdv.util.projector.alpha.LayerAlphaIProjectorFactory\n",
      "[java.lang.Enum.toString] \t \t class bdv.util.projector.alpha.LayerAlphaProjectorFactory\n",
      "[java.lang.Enum.toString] \t \t class bdv.viewer.render.AccumulateProjectorARGB$Factory\n",
      "[java.lang.Enum.toString] IClassAdapters : \n",
      "[java.lang.Enum.toString] \t class net.imglib2.realtransform.AffineTransform3D\n",
      "[java.lang.Enum.toString] \t class net.imglib2.realtransform.InvertibleRealTransformSequence\n",
      "[java.lang.Enum.toString] \t class net.imglib2.realtransform.RealTransformSequence\n",
      "[java.lang.Enum.toString] \t class net.imglib2.realtransform.ThinplateSplineTransform\n",
      "[java.lang.Enum.toString] \t class net.imglib2.realtransform.Wrapped2DTransformAs3D\n",
      "[java.lang.Enum.toString] \t class net.imglib2.realtransform.inverse.WrappedIterativeInvertibleRealTransform\n",
      "[java.lang.Enum.toString] Spimdata mpicbg.spim.data.SpimData@45f81b19 is using the Bdv Playground global cache.\n",
      "[java.lang.Enum.toString] IRunTimeClassAdapters : \n",
      "[java.lang.Enum.toString] \t interface net.imglib2.realtransform.RealTransform\n",
      "[java.lang.Enum.toString] \t \t class bdv.util.BoundedRealTransform\n",
      "[java.lang.Enum.toString] \t \t class bdv.util.Elliptical3DTransform\n",
      "[java.lang.Enum.toString] \t \t class ch.epfl.biop.registration.sourceandconverter.mirror.MirrorXTransform\n",
      "[java.lang.Enum.toString] \t \t class net.imglib2.realtransform.AffineTransform3D\n",
      "[java.lang.Enum.toString] \t \t class net.imglib2.realtransform.InvertibleRealTransformSequence\n",
      "[java.lang.Enum.toString] \t \t class net.imglib2.realtransform.RealTransformSequence\n",
      "[java.lang.Enum.toString] \t \t class net.imglib2.realtransform.ThinplateSplineTransform\n",
      "[java.lang.Enum.toString] \t \t class net.imglib2.realtransform.Wrapped2DTransformAs3D\n",
      "[java.lang.Enum.toString] \t \t class net.imglib2.realtransform.inverse.WrappedIterativeInvertibleRealTransform\n",
      "[java.lang.Enum.toString] \t interface sc.fiji.bdvpg.bdv.supplier.IBdvSupplier\n",
      "[java.lang.Enum.toString] \t \t class ch.epfl.biop.scijava.command.bdv.GridBdvSupplier\n",
      "[java.lang.Enum.toString] \t \t class sc.fiji.bdvpg.bdv.supplier.DefaultBdvSupplier\n",
      "[java.lang.Enum.toString] \t \t class sc.fiji.bdvpg.bdv.supplier.alpha.AlphaBdvSupplier\n",
      "[java.lang.Enum.toString] \t \t class sc.fiji.bdvpg.bdv.supplier.biop.BiopBdvSupplier\n",
      "[java.lang.Enum.toString] \t interface bdv.viewer.render.AccumulateProjectorFactory\n",
      "[java.lang.Enum.toString] \t \t class bdv.util.projector.alpha.LayerAlphaIProjectorFactory\n",
      "[java.lang.Enum.toString] \t \t class bdv.util.projector.alpha.LayerAlphaProjectorFactory\n",
      "[java.lang.Enum.toString] \t \t class bdv.viewer.render.AccumulateProjectorARGB$Factory\n",
      "[java.lang.Enum.toString] IClassAdapters : \n",
      "[java.lang.Enum.toString] \t class net.imglib2.realtransform.AffineTransform3D\n",
      "[java.lang.Enum.toString] \t class net.imglib2.realtransform.InvertibleRealTransformSequence\n",
      "[java.lang.Enum.toString] \t class net.imglib2.realtransform.RealTransformSequence\n",
      "[java.lang.Enum.toString] \t class net.imglib2.realtransform.ThinplateSplineTransform\n",
      "[java.lang.Enum.toString] \t class net.imglib2.realtransform.Wrapped2DTransformAs3D\n",
      "[java.lang.Enum.toString] \t class net.imglib2.realtransform.inverse.WrappedIterativeInvertibleRealTransform\n",
      "[java.lang.Enum.toString] Creating slice S00.tif...\n",
      "[java.lang.Enum.toString] Slice S00.tif created!\n",
      "[java.lang.Enum.toString] Multipositioner : Slice added\n",
      "[java.lang.Enum.toString] Creating slice S05.tif...\n",
      "[java.lang.Enum.toString] Slice S05.tif created!\n",
      "[java.lang.Enum.toString] Multipositioner : Slice added\n",
      "[java.lang.Enum.toString] Creating slice S10.tif...\n",
      "[java.lang.Enum.toString] Slice S10.tif created!\n",
      "[java.lang.Enum.toString] Multipositioner : Slice added\n",
      "[java.lang.Enum.toString] Creating slice S15.tif...\n",
      "[java.lang.Enum.toString] Slice S15.tif created!\n",
      "[java.lang.Enum.toString] Multipositioner : Slice added\n",
      "[java.lang.Enum.toString] Creating slice S20.tif...\n",
      "[java.lang.Enum.toString] Slice S20.tif created!\n",
      "[java.lang.Enum.toString] Multipositioner : Slice added\n",
      "[java.lang.Enum.toString] Creating slice S25.tif...\n",
      "[java.lang.Enum.toString] Slice S25.tif created!\n",
      "[java.lang.Enum.toString] Multipositioner : Slice added\n",
      "[java.lang.Enum.toString] Creating slice S30.tif...\n",
      "[java.lang.Enum.toString] Slice S30.tif created!\n",
      "[java.lang.Enum.toString] Multipositioner : Slice added\n",
      "[java.lang.Enum.toString] Creating slice S35.tif...\n",
      "[java.lang.Enum.toString] Slice S35.tif created!\n",
      "[java.lang.Enum.toString] Multipositioner : Slice added\n",
      "[java.lang.Enum.toString] Creating slice S40.tif...\n",
      "[java.lang.Enum.toString] Slice S40.tif created!\n",
      "[java.lang.Enum.toString] Multipositioner : Slice added\n",
      "[java.lang.Enum.toString] Creating slice S45.tif...\n",
      "[java.lang.Enum.toString] Slice S45.tif created!\n",
      "[java.lang.Enum.toString] Multipositioner : Slice added\n",
      "[java.lang.Enum.toString] Creating slice S50.tif...\n",
      "[java.lang.Enum.toString] Slice S50.tif created!\n",
      "[java.lang.Enum.toString] Multipositioner : Slice added\n",
      "[java.lang.Enum.toString] Creating slice S55.tif...\n",
      "[java.lang.Enum.toString] Slice S55.tif created!\n",
      "[java.lang.Enum.toString] Multipositioner : Slice added\n",
      "[java.lang.Enum.toString] Creating slice S60.tif...\n",
      "[java.lang.Enum.toString] Slice S60.tif created!\n",
      "[java.lang.Enum.toString] Multipositioner : Slice added\n",
      "[java.lang.Enum.toString] Creating slice S65.tif...\n",
      "[java.lang.Enum.toString] Slice S65.tif created!\n",
      "[java.lang.Enum.toString] Multipositioner : Slice added\n",
      "[java.lang.Enum.toString] Creating slice S70.tif...\n",
      "[java.lang.Enum.toString] Slice S70.tif created!\n",
      "[java.lang.Enum.toString] Multipositioner : Slice added\n",
      "[java.lang.Enum.toString] Creating slice S75.tif...\n",
      "[java.lang.Enum.toString] Slice S75.tif created!\n",
      "[java.lang.Enum.toString] Multipositioner : Slice added\n",
      "[java.lang.Enum.toString] Creating slice S80.tif...\n",
      "[java.lang.Enum.toString] Slice S80.tif created!\n",
      "[java.lang.Enum.toString] Multipositioner : Slice added\n",
      "[java.lang.Enum.toString] [WARN] Warning:Current X Angle : .000 has been updated to 6.731\n",
      "Current Y Angle : .000 has been updated to .177\n",
      "\n"
     ]
    }
   ],
   "source": [
    "# -- NOT HEADLESS\n",
    "aligner = Abba('Adult Mouse Brain - Allen Brain Atlas V3p1') # You may have to click a window!\n",
    "aligner.show_bdv_ui()  # creates and show a bdv view\n",
    "\n",
    "save_dir = os.path.join(os.getcwd(), 'temp', 'notebook0', 'state') # execute the first notebook to get this file!\n",
    "aligner.state_load(save_dir+\"/state.abba\") # full absolute path needed\n",
    "\n",
    "# ALL COMMANDS ARE PERFORMED ON SELECTED SLICES!!\n",
    "# since we want to register all of them, we select all of them\n",
    "aligner.select_all_slices()\n",
    "\n",
    "# change display settings : channel index, min, max\n",
    "aligner.change_display_settings(0, 0, 500)\n",
    "aligner.change_display_settings(1, 0, 1200)\n",
    "\n",
    "# YOU MAY NEED TO CLICK ON THE UI TO FINISH THE EXECUTION OF THIS CELL (angle change notification)"
   ]
  },
  {
   "cell_type": "code",
   "execution_count": 3,
   "id": "0a056fa5",
   "metadata": {
    "tags": []
   },
   "outputs": [],
   "source": [
    "# programmatic way to show (or hide) sections and channels\n",
    "aligner.get_bdv_view().setSelectedSlicesVisibility(True)\n",
    "aligner.get_bdv_view().setSelectedSlicesVisibility(0, True)"
   ]
  },
  {
   "cell_type": "code",
   "execution_count": 4,
   "id": "4c913344",
   "metadata": {
    "tags": []
   },
   "outputs": [],
   "source": [
    "mp = aligner.mp\n",
    "mp.selectSlice(mp.getSlices()) # select all slices"
   ]
  },
  {
   "cell_type": "code",
   "execution_count": 5,
   "id": "1d17f28e",
   "metadata": {
    "tags": []
   },
   "outputs": [],
   "source": [
    "mp.deselectSlice(mp.getSlices()) # deselect all"
   ]
  },
  {
   "cell_type": "code",
   "execution_count": 6,
   "id": "d0cb63e0",
   "metadata": {
    "tags": []
   },
   "outputs": [],
   "source": [
    "mp.selectSlice(mp.getSlices().get(2)) # select the third slice"
   ]
  },
  {
   "cell_type": "code",
   "execution_count": 7,
   "id": "e5b46eae",
   "metadata": {
    "tags": []
   },
   "outputs": [],
   "source": [
    "# The slices are always sorted from small z to high z. To keep track of who's who, reference them before moving them\n",
    "slice_0 = mp.getSlices().get(0) \n",
    "slice_1 = mp.getSlices().get(1)\n",
    "slice_2 = mp.getSlices().get(2)"
   ]
  },
  {
   "cell_type": "code",
   "execution_count": 8,
   "id": "93687822",
   "metadata": {
    "tags": []
   },
   "outputs": [
    {
     "name": "stdout",
     "output_type": "stream",
     "text": [
      "CCF coord (mm):[3.57824625991771, 7.646480330904136, 4.099084106904822]\n"
     ]
    }
   ],
   "source": [
    "\n",
    "from jpype.types import JString, JArray, JDouble\n",
    "\n",
    "# Get transformation\n",
    "transform_pix_to_atlas = slice_0.getSlicePixToCCFRealTransform()\n",
    "\n",
    "DoubleArray = JArray(JDouble)\n",
    "\n",
    "coordInImage = DoubleArray(3)\n",
    "coordInCCF = DoubleArray(3)\n",
    "\n",
    "coordInImage[0] = 500 # X (pixel)\n",
    "coordInImage[1] = 500 # Y\n",
    "coordInImage[2] = 0 # Z\n",
    "\n",
    "transform_pix_to_atlas.inverse().apply(coordInImage,coordInCCF)\n",
    "\n",
    "print('CCF coord (mm):'+str(coordInCCF)) # It may be printed on a cell above with jupyter lab\n"
   ]
  },
  {
   "cell_type": "code",
   "execution_count": 9,
   "id": "b9f26097",
   "metadata": {
    "tags": []
   },
   "outputs": [
    {
     "name": "stdout",
     "output_type": "stream",
     "text": [
      "Slice[0] coord (pixel):[355.3614572699433, 220.97872475513975, 3410.938448709107]\n",
      "Slice[1] coord (pixel):[353.0728632584608, 284.72379308011347, 2841.880551661362]\n",
      "Slice[2] coord (pixel):[393.48660226304787, 328.0700217403849, 2272.8406319846727]\n",
      "Slice[3] coord (pixel):[425.27774678379876, 303.74450601793967, 1703.8106641519387]\n",
      "Slice[4] coord (pixel):[450.0615274639213, 306.1193688335815, 1134.7577094551048]\n",
      "Slice[5] coord (pixel):[465.4176142951741, 330.4015782242297, 565.7167152546805]\n",
      "Slice[6] coord (pixel):[479.34354545334685, 342.6166997379125, -3.3130987100138394]\n",
      "Slice[7] coord (pixel):[461.2622501037235, 314.05686984978075, -572.3599546856909]\n",
      "Slice[8] coord (pixel):[500.12716093664744, 359.2511040827763, -1141.3938991062623]\n",
      "Slice[9] coord (pixel):[477.29238585861776, 349.246218551061, -1710.4492048368145]\n",
      "Slice[10] coord (pixel):[502.3989499605028, 354.35216426935534, -2279.4874603481126]\n",
      "Slice[11] coord (pixel):[484.9440859360184, 361.81501063956375, -2848.5325780635458]\n",
      "Slice[12] coord (pixel):[490.76930192769703, 338.78369154321746, -3417.569613226387]\n",
      "Slice[13] coord (pixel):[460.96269619146307, 313.323196396068, -3986.6122217741768]\n",
      "Slice[14] coord (pixel):[423.0377523314621, 286.8854120812938, -4555.656692570149]\n",
      "Slice[15] coord (pixel):[408.1197177447995, 315.8389151564038, -5124.699842591526]\n",
      "Slice[16] coord (pixel):[382.9852882002092, 298.5954739232874, -5693.73202119674]\n"
     ]
    }
   ],
   "source": [
    "# We can also find the coordinates of the atlas into a slice\n",
    "# a coordinate in z far from 0, means that it's not in the slice, but far out\n",
    "# See https://forum.image.sc/t/coordinates-in-slice-to-atlas-using-abba-python/79513 \n",
    "\n",
    "coordInCCF = DoubleArray(3)\n",
    "coordInCCF[0] = 6.60 # X (pixel)\n",
    "coordInCCF[1] = 4.31 # Y\n",
    "coordInCCF[2] = 5.58 # Z\n",
    "\n",
    "coordInImage = DoubleArray(3)\n",
    "\n",
    "for idx in range(0,mp.getSlices().size()):\n",
    "    # Get transformation\n",
    "    transform_pix_to_atlas = mp.getSlices().get(idx).getSlicePixToCCFRealTransform()\n",
    "    transform_pix_to_atlas.apply(coordInCCF, coordInImage)\n",
    "    print('Slice['+str(idx)+'] coord (pixel):'+str(coordInImage))\n",
    "    \n"
   ]
  },
  {
   "cell_type": "code",
   "execution_count": 10,
   "id": "4f1cb990",
   "metadata": {
    "tags": []
   },
   "outputs": [],
   "source": [
    "# The slice indexed 7 should be the one which is the nearest to the atlas point (Lowest absolute value in Z)"
   ]
  },
  {
   "cell_type": "code",
   "execution_count": 11,
   "id": "9b416a85",
   "metadata": {
    "tags": []
   },
   "outputs": [
    {
     "name": "stdout",
     "output_type": "stream",
     "text": [
      "Slice[0] coord (pixel):[355.3614572699433, 220.97872475513975, 5.9940095136275735]\n",
      "Slice[1] coord (pixel):[353.0728632584608, 284.72379308011347, 4.9940962968954095]\n",
      "Slice[2] coord (pixel):[393.48660226304787, 328.0700217403849, 3.994206585888334]\n",
      "Slice[3] coord (pixel):[425.27774678379876, 303.74450601793967, 2.9941665650318994]\n",
      "Slice[4] coord (pixel):[450.0615274639213, 306.1193688335815, 1.9941424004208481]\n",
      "Slice[5] coord (pixel):[465.4176142951741, 330.4015782242297, 0.9941727812625423]\n",
      "Slice[6] coord (pixel):[479.34354545334685, 342.6166997379125, -0.005829764022724156]\n",
      "Slice[7] coord (pixel):[461.2622501037235, 314.05686984978075, -1.0058279282062157]\n",
      "Slice[8] coord (pixel):[500.12716093664744, 359.2511040827763, -2.005816748171893]\n",
      "Slice[9] coord (pixel):[477.29238585861776, 349.246218551061, -3.0058072561549607]\n",
      "Slice[10] coord (pixel):[502.3989499605028, 354.35216426935534, -4.005838639811199]\n",
      "Slice[11] coord (pixel):[484.9440859360184, 361.81501063956375, -5.005843471354506]\n",
      "Slice[12] coord (pixel):[490.76930192769703, 338.78369154321746, -6.00585561029782]\n",
      "Slice[13] coord (pixel):[460.96269619146307, 313.323196396068, -7.0058131046263385]\n",
      "Slice[14] coord (pixel):[423.0377523314621, 286.8854120812938, -8.005809533548447]\n",
      "Slice[15] coord (pixel):[408.1197177447995, 315.8389151564038, -9.005901403594953]\n",
      "Slice[16] coord (pixel):[382.9852882002092, 298.5954739232874, -10.005993044458357]\n"
     ]
    }
   ],
   "source": [
    "# You can normalize the slices sections by expanding them to cover the space between neighboring slices, no more, no less\n",
    "aligner.select_all_slices()\n",
    "aligner.set_slices_thickness_match_neighbors() # not critical, but for 3d reconstruction it will allow for each slice to occupy the place available between its neighbors\n",
    "# The coordinates will be different in Z\n",
    "coordInImage = DoubleArray(3)\n",
    "\n",
    "for idx in range(0,mp.getSlices().size()):\n",
    "    # Get transformation\n",
    "    transform_pix_to_atlas = mp.getSlices().get(idx).getSlicePixToCCFRealTransform()\n",
    "    transform_pix_to_atlas.apply(coordInCCF, coordInImage)\n",
    "    print('Slice['+str(idx)+'] coord (pixel):'+str(coordInImage))"
   ]
  },
  {
   "cell_type": "code",
   "execution_count": null,
   "id": "e5dab706-b748-40a8-8f01-7a49435ad387",
   "metadata": {},
   "outputs": [],
   "source": []
  }
 ],
 "metadata": {
  "kernelspec": {
   "display_name": "Python 3 (ipykernel)",
   "language": "python",
   "name": "python3"
  },
  "language_info": {
   "codemirror_mode": {
    "name": "ipython",
    "version": 3
   },
   "file_extension": ".py",
   "mimetype": "text/x-python",
   "name": "python",
   "nbconvert_exporter": "python",
   "pygments_lexer": "ipython3",
   "version": "3.8.17"
  }
 },
 "nbformat": 4,
 "nbformat_minor": 5
}
